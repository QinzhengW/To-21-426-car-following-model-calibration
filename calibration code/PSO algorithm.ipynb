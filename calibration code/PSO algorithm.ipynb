{
 "cells": [
  {
   "cell_type": "code",
   "execution_count": 1,
   "id": "a472b08f",
   "metadata": {},
   "outputs": [],
   "source": [
    "from sko.PSO import PSO\n",
    "import pandas as pd\n",
    "import numpy as np"
   ]
  },
  {
   "cell_type": "code",
   "execution_count": 21,
   "id": "626df4f8",
   "metadata": {},
   "outputs": [],
   "source": [
    "#run no-veh_id : [pair_id] \n",
    "following_CAV_dict={'8-206': [643], '8-209': [645], '1-9': [6], '1-16': [7], '1-68': [8], '1-77': [9], '8-180': [647], \n",
    "                    '8-150': [649], '7-21': [424], '7-69': [426], '7-44': [427], '7-78': [428], '7-84': [429], \n",
    "                    '7-49': [430], '21-71': [2172], '21-3': [2173], '19-29': [1859], '18-11': [1667], '19-51': [1860], \n",
    "                    '19-55': [1861], '19-48': [1862], '19-78': [1863], '18-17': [1668], '20-2': [2049], '20-4': [2050], \n",
    "                    '18-4': [1669], '20-34': [2051], '20-30': [2052], '11-32': [1495], '11-36': [1496], '11-105': [1497], \n",
    "                    '11-30': [1498], '3-53': [219], '3-31': [220], '3-35': [222], '3-68': [223], '3-71': [224], '3-83': [225],\n",
    "                    '20-49': [2053], '9-64': [1393], '21-17': [2168], '21-39': [2169], '21-48': [2170], '21-88': [2171], \n",
    "                    '8-6': [636], '8-60': [638], '8-61': [637], '7-41': [425], '18-32': [1670]}\n",
    "following_HV_dict={'8-206': [1091, 1104], '8-209': [1097, 1151], '1-9': [11, 63, 82, 111], '1-16': [18], '1-68': [32, 100], '1-77': [58, 134, 136], '8-180': [1089, 1099, 1141, 1143], '8-150': [615, 1174, 667, 940, 973], '7-21': [417, 433, 437, 477], '7-69': [528, 538, 480, 492, 506], '7-44': [529, 533, 563, 475, 487, 508], '7-78': [568, 482], '7-84': [545, 559, 564], '7-49': [406, 440], '21-71': [2143, 2234, 2293], '21-3': [2218], '19-29': [1874], '18-11': [1651], '19-51': [1916, 1939, 1979], '19-55': [1918, 1943, 1949, 2023], '19-48': [1886, 1912, 1926, 1953, 1968], '19-78': [1858, 1936, 1967, 1998, 2003], '18-17': [1634, 1648, 1660, 1696, 1728, 1736], '20-2': [2044, 2040], '20-4': [2035], '18-4': [1656, 1662, 1671, 1719], '20-34': [2102], '20-30': [2082, 2103, 2030], '11-32': [1501], '11-36': [1502], '11-105': [1612, 1490], '11-30': [1590, 1479, 1493, 1504], '3-53': [198, 208, 261, 339], '3-31': [187, 207], '3-35': [199, 206, 266], '3-68': [195, 232, 286, 357], '3-71': [218, 288, 297, 307, 356], '3-83': [317, 325, 353], '20-49': [2046], '9-64': [1412, 1439], '21-17': [2148, 2184], '21-39': [2165], '21-48': [2155], '21-88': [2142, 2235, 2257, 2274], '8-6': [658], '8-60': [789, 805, 1117, 1144, 1160], '8-61': [652, 790], '7-41': [436, 450, 500], '18-32': [1632, 1691, 1715]}\n"
   ]
  },
  {
   "cell_type": "code",
   "execution_count": 3,
   "id": "285bb4b3",
   "metadata": {},
   "outputs": [],
   "source": [
    "#get the run_id list, veh_id_list, and pair_id_list\n",
    "CAV_judge=True\n",
    "run_id_list=[]\n",
    "veh_id_list=[]\n",
    "pair_id_list=[]\n",
    "if CAV_judge:\n",
    "    following_veh_dict=following_CAV_dict\n",
    "else:\n",
    "    following_veh_dict=following_HV_dict\n",
    "for item in list(following_veh_dict.keys()):\n",
    "    run_no=item.split(\"-\")[0]\n",
    "    veh_id=item.split(\"-\")[1]\n",
    "    run_id_list.append(run_no)\n",
    "    veh_id_list.append(veh_id)\n",
    "    pair_id_list.append(following_veh_dict[item])\n",
    "    "
   ]
  },
  {
   "cell_type": "code",
   "execution_count": 83,
   "id": "acc714de",
   "metadata": {},
   "outputs": [],
   "source": [
    "#update vehicle state\n",
    "def veh_state_update(xt,vt,at,time_step):\n",
    "    vt_next=vt+at*time_step\n",
    "    xt_next=xt+vt*time_step+0.5*at*time_step*time_step\n",
    "    return xt_next,vt_next"
   ]
  },
  {
   "cell_type": "code",
   "execution_count": 84,
   "id": "34ffbbe4",
   "metadata": {},
   "outputs": [],
   "source": [
    "#define the objective function of PSO\n",
    "def objective_function(Vars):\n",
    "        x1 = Vars[0]\n",
    "        x2 = Vars[1]\n",
    "        x3 = Vars[2]\n",
    "        x4 = Vars[3]\n",
    "        x5 = Vars[4]     \n",
    "        total_loss=0\n",
    "        for current_tra_i in range(len(x_leader_current_list)):\n",
    "            #traffic state of the leading vehicle at current time step\n",
    "            x_leader_current=x_leader_current_list[current_tra_i]\n",
    "            v_leader_current=v_leader_current_list[current_tra_i]\n",
    "            a_leader_current=a_leader_current_list[current_tra_i]\n",
    "            \n",
    "            #traffic state of the following vehicle at current time step\n",
    "            x_follower_current=x_follower_current_list[current_tra_i]\n",
    "            v_follower_current=v_follower_current_list[current_tra_i]\n",
    "            a_follower_current=a_follower_current_list[current_tra_i]\n",
    "            \n",
    "            #traffic state of the leading vehicle at next time step\n",
    "            x_leader_next=x_leader_next_list[current_tra_i]\n",
    "            v_leader_next=v_leader_next_list[current_tra_i]\n",
    "            a_leader_next=a_leader_next_list[current_tra_i]\n",
    "            \n",
    "            #traffic state of the following vehicle at next time step\n",
    "            x_follower_next=x_follower_next_list[current_tra_i]\n",
    "            v_follower_next=v_follower_next_list[current_tra_i]\n",
    "            a_follower_next=a_follower_next_list[current_tra_i]\n",
    "            \n",
    "            spacing=spacing_list[current_tra_i]\n",
    "            delta_v=delta_v_list[current_tra_i]\n",
    "            vt_follower=v_follower_current[0]\n",
    "            ds=spacing[0]\n",
    "            dv=delta_v[0]\n",
    "            xt_follower=x_follower_current[0]\n",
    "            current_traj_loss=0\n",
    "            for i in range(len(v_follower_current)):\n",
    "                sn = x2 + vt_follower * x3 + vt_follower * dv / (2 * np.sqrt(x4 * x5))\n",
    "                a_follower = x4 * (1 - (vt_follower / x1) ** 4 - (sn / ds) ** 2)\n",
    "                xt_follower_next,vt_follower_next=veh_state_update(xt_follower,vt_follower,a_follower,0.1)\n",
    "                vt_follower=vt_follower_next\n",
    "                xt_follower=xt_follower_next\n",
    "                vt_leader_next=v_leader_next[i]\n",
    "                xt_leader_next=x_leader_next[i]\n",
    "                dv=vt_follower-vt_leader_next\n",
    "                ds=xt_leader_next-xt_follower_next-5\n",
    "                xt_follower_next_true=x_follower_next[i]\n",
    "                vt_follower_next_true=v_follower_next[i]\n",
    "                current_traj_loss+=np.abs(np.subtract(xt_follower, xt_follower_next_true))\n",
    "            total_loss+=current_traj_loss\n",
    "        return total_loss\n"
   ]
  },
  {
   "cell_type": "code",
   "execution_count": 86,
   "id": "10b6f095",
   "metadata": {
    "scrolled": false
   },
   "outputs": [
    {
     "name": "stdout",
     "output_type": "stream",
     "text": [
      "run_no: 8 veh_id: 206 pair_id: [1091, 1104]\n",
      "best_x is  [35.          5.          1.12208102  0.36896234  0.64708064] best_y is [494.3524583]\n",
      "run_no: 8 veh_id: 209 pair_id: [1097, 1151]\n"
     ]
    },
    {
     "name": "stderr",
     "output_type": "stream",
     "text": [
      "C:\\Users\\wangq2\\AppData\\Local\\Temp\\ipykernel_23348\\3625080482.py:36: RuntimeWarning: overflow encountered in double_scalars\n",
      "  sn = x2 + vt_follower * x3 + vt_follower * dv / (2 * np.sqrt(x4 * x5))\n",
      "C:\\Users\\wangq2\\AppData\\Local\\Temp\\ipykernel_23348\\3625080482.py:39: RuntimeWarning: overflow encountered in double_scalars\n",
      "  a_follower = x4 * (1 - (vt_follower / x1) ** 4 - (sn / ds) ** 2)\n",
      "C:\\Users\\wangq2\\AppData\\Local\\Temp\\ipykernel_23348\\3625080482.py:36: RuntimeWarning: invalid value encountered in double_scalars\n",
      "  sn = x2 + vt_follower * x3 + vt_follower * dv / (2 * np.sqrt(x4 * x5))\n"
     ]
    },
    {
     "name": "stdout",
     "output_type": "stream",
     "text": [
      "best_x is  [35.          1.97750109  0.6         0.81843202  3.41      ] best_y is [581.62996438]\n",
      "run_no: 1 veh_id: 9 pair_id: [11, 63, 82, 111]\n"
     ]
    },
    {
     "name": "stderr",
     "output_type": "stream",
     "text": [
      "C:\\Users\\wangq2\\AppData\\Local\\Temp\\ipykernel_23348\\3625080482.py:36: RuntimeWarning: overflow encountered in double_scalars\n",
      "  sn = x2 + vt_follower * x3 + vt_follower * dv / (2 * np.sqrt(x4 * x5))\n",
      "C:\\Users\\wangq2\\AppData\\Local\\Temp\\ipykernel_23348\\3625080482.py:39: RuntimeWarning: overflow encountered in double_scalars\n",
      "  a_follower = x4 * (1 - (vt_follower / x1) ** 4 - (sn / ds) ** 2)\n",
      "C:\\Users\\wangq2\\AppData\\Local\\Temp\\ipykernel_23348\\3625080482.py:36: RuntimeWarning: invalid value encountered in double_scalars\n",
      "  sn = x2 + vt_follower * x3 + vt_follower * dv / (2 * np.sqrt(x4 * x5))\n"
     ]
    },
    {
     "name": "stdout",
     "output_type": "stream",
     "text": [
      "best_x is  [35.    1.    0.6   3.41  3.41] best_y is [626.36613233]\n",
      "run_no: 1 veh_id: 16 pair_id: [18]\n",
      "best_x is  [35.          1.          0.6         3.41        0.52699764] best_y is [6.52774787]\n",
      "run_no: 1 veh_id: 68 pair_id: [32, 100]\n",
      "best_x is  [32.13969724  1.          0.6         3.41        2.30456924] best_y is [760.6945061]\n",
      "run_no: 1 veh_id: 77 pair_id: [58, 134, 136]\n",
      "best_x is  [34.08122289  5.          1.08923032  3.41        3.41      ] best_y is [453.00254613]\n",
      "run_no: 8 veh_id: 180 pair_id: [1089, 1099, 1141, 1143]\n",
      "best_x is  [24.52928315  5.          0.89718562  0.60279393  1.05458208] best_y is [147.39516607]\n",
      "run_no: 8 veh_id: 150 pair_id: [615, 1174, 667, 940, 973]\n",
      "best_x is  [15.34185517  1.          2.21790384  0.28        2.14226962] best_y is [133.39929133]\n",
      "run_no: 7 veh_id: 21 pair_id: [417, 433, 437, 477]\n",
      "best_x is  [29.93629405  1.          0.6         2.55511063  0.47      ] best_y is [384.59012031]\n",
      "run_no: 7 veh_id: 69 pair_id: [528, 538, 480, 492, 506]\n"
     ]
    },
    {
     "name": "stderr",
     "output_type": "stream",
     "text": [
      "C:\\Users\\wangq2\\AppData\\Local\\Temp\\ipykernel_23348\\3625080482.py:39: RuntimeWarning: overflow encountered in double_scalars\n",
      "  a_follower = x4 * (1 - (vt_follower / x1) ** 4 - (sn / ds) ** 2)\n",
      "C:\\Users\\wangq2\\AppData\\Local\\Temp\\ipykernel_23348\\3625080482.py:36: RuntimeWarning: invalid value encountered in double_scalars\n",
      "  sn = x2 + vt_follower * x3 + vt_follower * dv / (2 * np.sqrt(x4 * x5))\n",
      "C:\\Users\\wangq2\\AppData\\Local\\Temp\\ipykernel_23348\\3625080482.py:36: RuntimeWarning: overflow encountered in double_scalars\n",
      "  sn = x2 + vt_follower * x3 + vt_follower * dv / (2 * np.sqrt(x4 * x5))\n"
     ]
    },
    {
     "name": "stdout",
     "output_type": "stream",
     "text": [
      "best_x is  [35.          1.          0.6         3.00394317  3.41      ] best_y is [1240.76845205]\n",
      "run_no: 7 veh_id: 44 pair_id: [529, 533, 563, 475, 487, 508]\n"
     ]
    },
    {
     "name": "stderr",
     "output_type": "stream",
     "text": [
      "C:\\Users\\wangq2\\AppData\\Local\\Temp\\ipykernel_23348\\3625080482.py:39: RuntimeWarning: overflow encountered in double_scalars\n",
      "  a_follower = x4 * (1 - (vt_follower / x1) ** 4 - (sn / ds) ** 2)\n",
      "C:\\Users\\wangq2\\AppData\\Local\\Temp\\ipykernel_23348\\3625080482.py:36: RuntimeWarning: invalid value encountered in double_scalars\n",
      "  sn = x2 + vt_follower * x3 + vt_follower * dv / (2 * np.sqrt(x4 * x5))\n",
      "C:\\Users\\wangq2\\AppData\\Local\\Temp\\ipykernel_23348\\3625080482.py:36: RuntimeWarning: overflow encountered in double_scalars\n",
      "  sn = x2 + vt_follower * x3 + vt_follower * dv / (2 * np.sqrt(x4 * x5))\n"
     ]
    },
    {
     "name": "stdout",
     "output_type": "stream",
     "text": [
      "best_x is  [29.9401902   1.          1.09843409  3.15005937  2.49073732] best_y is [870.27237835]\n",
      "run_no: 7 veh_id: 78 pair_id: [568, 482]\n",
      "best_x is  [26.83327618  1.          1.35997006  0.91502875  3.41      ] best_y is [105.78354998]\n",
      "run_no: 7 veh_id: 84 pair_id: [545, 559, 564]\n"
     ]
    },
    {
     "name": "stderr",
     "output_type": "stream",
     "text": [
      "C:\\Users\\wangq2\\AppData\\Local\\Temp\\ipykernel_23348\\3625080482.py:39: RuntimeWarning: overflow encountered in double_scalars\n",
      "  a_follower = x4 * (1 - (vt_follower / x1) ** 4 - (sn / ds) ** 2)\n",
      "C:\\Users\\wangq2\\AppData\\Local\\Temp\\ipykernel_23348\\3625080482.py:36: RuntimeWarning: invalid value encountered in double_scalars\n",
      "  sn = x2 + vt_follower * x3 + vt_follower * dv / (2 * np.sqrt(x4 * x5))\n",
      "C:\\Users\\wangq2\\AppData\\Local\\Temp\\ipykernel_23348\\3625080482.py:36: RuntimeWarning: overflow encountered in double_scalars\n",
      "  sn = x2 + vt_follower * x3 + vt_follower * dv / (2 * np.sqrt(x4 * x5))\n"
     ]
    },
    {
     "name": "stdout",
     "output_type": "stream",
     "text": [
      "best_x is  [35.          1.43790667  2.3924517   3.41        1.56857628] best_y is [261.62281711]\n",
      "run_no: 7 veh_id: 49 pair_id: [406, 440]\n"
     ]
    },
    {
     "name": "stderr",
     "output_type": "stream",
     "text": [
      "C:\\Users\\wangq2\\AppData\\Local\\Temp\\ipykernel_23348\\3625080482.py:39: RuntimeWarning: overflow encountered in double_scalars\n",
      "  a_follower = x4 * (1 - (vt_follower / x1) ** 4 - (sn / ds) ** 2)\n",
      "C:\\Users\\wangq2\\AppData\\Local\\Temp\\ipykernel_23348\\3625080482.py:36: RuntimeWarning: invalid value encountered in double_scalars\n",
      "  sn = x2 + vt_follower * x3 + vt_follower * dv / (2 * np.sqrt(x4 * x5))\n",
      "C:\\Users\\wangq2\\AppData\\Local\\Temp\\ipykernel_23348\\3625080482.py:36: RuntimeWarning: overflow encountered in double_scalars\n",
      "  sn = x2 + vt_follower * x3 + vt_follower * dv / (2 * np.sqrt(x4 * x5))\n"
     ]
    },
    {
     "name": "stdout",
     "output_type": "stream",
     "text": [
      "best_x is  [35.          1.          1.61953795  1.92967107  2.16996456] best_y is [126.8976875]\n",
      "run_no: 21 veh_id: 71 pair_id: [2143, 2234, 2293]\n"
     ]
    },
    {
     "name": "stderr",
     "output_type": "stream",
     "text": [
      "C:\\Users\\wangq2\\AppData\\Local\\Temp\\ipykernel_23348\\3625080482.py:39: RuntimeWarning: overflow encountered in double_scalars\n",
      "  a_follower = x4 * (1 - (vt_follower / x1) ** 4 - (sn / ds) ** 2)\n",
      "C:\\Users\\wangq2\\AppData\\Local\\Temp\\ipykernel_23348\\3625080482.py:36: RuntimeWarning: invalid value encountered in double_scalars\n",
      "  sn = x2 + vt_follower * x3 + vt_follower * dv / (2 * np.sqrt(x4 * x5))\n",
      "C:\\Users\\wangq2\\AppData\\Local\\Temp\\ipykernel_23348\\3625080482.py:36: RuntimeWarning: overflow encountered in double_scalars\n",
      "  sn = x2 + vt_follower * x3 + vt_follower * dv / (2 * np.sqrt(x4 * x5))\n"
     ]
    },
    {
     "name": "stdout",
     "output_type": "stream",
     "text": [
      "best_x is  [27.14677061  2.93754387  0.87085258  3.41        0.47      ] best_y is [515.4352596]\n",
      "run_no: 21 veh_id: 3 pair_id: [2218]\n",
      "best_x is  [21.3852118   1.          0.6         3.41        0.77147547] best_y is [318.32990192]\n",
      "run_no: 19 veh_id: 29 pair_id: [1874]\n"
     ]
    },
    {
     "name": "stderr",
     "output_type": "stream",
     "text": [
      "C:\\Users\\wangq2\\AppData\\Local\\Temp\\ipykernel_23348\\3625080482.py:36: RuntimeWarning: overflow encountered in double_scalars\n",
      "  sn = x2 + vt_follower * x3 + vt_follower * dv / (2 * np.sqrt(x4 * x5))\n",
      "C:\\Users\\wangq2\\AppData\\Local\\Temp\\ipykernel_23348\\3625080482.py:39: RuntimeWarning: overflow encountered in double_scalars\n",
      "  a_follower = x4 * (1 - (vt_follower / x1) ** 4 - (sn / ds) ** 2)\n",
      "C:\\Users\\wangq2\\AppData\\Local\\Temp\\ipykernel_23348\\3625080482.py:36: RuntimeWarning: invalid value encountered in double_scalars\n",
      "  sn = x2 + vt_follower * x3 + vt_follower * dv / (2 * np.sqrt(x4 * x5))\n"
     ]
    },
    {
     "name": "stdout",
     "output_type": "stream",
     "text": [
      "best_x is  [35.         5.         0.6420882  0.7767518  0.47     ] best_y is [80.89969911]\n",
      "run_no: 18 veh_id: 11 pair_id: [1651]\n",
      "best_x is  [28.41998754  1.          0.6         0.28        3.41      ] best_y is [1.77127436]\n",
      "run_no: 19 veh_id: 51 pair_id: [1916, 1939, 1979]\n"
     ]
    },
    {
     "name": "stderr",
     "output_type": "stream",
     "text": [
      "C:\\Users\\wangq2\\AppData\\Local\\Temp\\ipykernel_23348\\3625080482.py:36: RuntimeWarning: overflow encountered in double_scalars\n",
      "  sn = x2 + vt_follower * x3 + vt_follower * dv / (2 * np.sqrt(x4 * x5))\n",
      "C:\\Users\\wangq2\\AppData\\Local\\Temp\\ipykernel_23348\\3625080482.py:39: RuntimeWarning: overflow encountered in double_scalars\n",
      "  a_follower = x4 * (1 - (vt_follower / x1) ** 4 - (sn / ds) ** 2)\n",
      "C:\\Users\\wangq2\\AppData\\Local\\Temp\\ipykernel_23348\\3625080482.py:36: RuntimeWarning: invalid value encountered in double_scalars\n",
      "  sn = x2 + vt_follower * x3 + vt_follower * dv / (2 * np.sqrt(x4 * x5))\n"
     ]
    },
    {
     "name": "stdout",
     "output_type": "stream",
     "text": [
      "best_x is  [35.          1.          0.6         3.09663009  3.41      ] best_y is [528.84010779]\n",
      "run_no: 19 veh_id: 55 pair_id: [1918, 1943, 1949, 2023]\n"
     ]
    },
    {
     "name": "stderr",
     "output_type": "stream",
     "text": [
      "C:\\Users\\wangq2\\AppData\\Local\\Temp\\ipykernel_23348\\3625080482.py:39: RuntimeWarning: overflow encountered in double_scalars\n",
      "  a_follower = x4 * (1 - (vt_follower / x1) ** 4 - (sn / ds) ** 2)\n",
      "C:\\Users\\wangq2\\AppData\\Local\\Temp\\ipykernel_23348\\3625080482.py:36: RuntimeWarning: invalid value encountered in double_scalars\n",
      "  sn = x2 + vt_follower * x3 + vt_follower * dv / (2 * np.sqrt(x4 * x5))\n",
      "C:\\Users\\wangq2\\AppData\\Local\\Temp\\ipykernel_23348\\3625080482.py:36: RuntimeWarning: overflow encountered in double_scalars\n",
      "  sn = x2 + vt_follower * x3 + vt_follower * dv / (2 * np.sqrt(x4 * x5))\n"
     ]
    },
    {
     "name": "stdout",
     "output_type": "stream",
     "text": [
      "best_x is  [34.51307424  1.          0.6         3.39578119  3.41      ] best_y is [636.2553726]\n",
      "run_no: 19 veh_id: 48 pair_id: [1886, 1912, 1926, 1953, 1968]\n",
      "best_x is  [29.94712841  1.          0.6         3.41        3.41      ] best_y is [1087.85043423]\n",
      "run_no: 19 veh_id: 78 pair_id: [1858, 1936, 1967, 1998, 2003]\n"
     ]
    },
    {
     "name": "stderr",
     "output_type": "stream",
     "text": [
      "C:\\Users\\wangq2\\AppData\\Local\\Temp\\ipykernel_23348\\3625080482.py:39: RuntimeWarning: overflow encountered in double_scalars\n",
      "  a_follower = x4 * (1 - (vt_follower / x1) ** 4 - (sn / ds) ** 2)\n",
      "C:\\Users\\wangq2\\AppData\\Local\\Temp\\ipykernel_23348\\3625080482.py:36: RuntimeWarning: invalid value encountered in double_scalars\n",
      "  sn = x2 + vt_follower * x3 + vt_follower * dv / (2 * np.sqrt(x4 * x5))\n",
      "C:\\Users\\wangq2\\AppData\\Local\\Temp\\ipykernel_23348\\3625080482.py:36: RuntimeWarning: overflow encountered in double_scalars\n",
      "  sn = x2 + vt_follower * x3 + vt_follower * dv / (2 * np.sqrt(x4 * x5))\n"
     ]
    },
    {
     "name": "stdout",
     "output_type": "stream",
     "text": [
      "best_x is  [35.          1.          0.6         2.75730904  3.22565611] best_y is [400.9155717]\n",
      "run_no: 18 veh_id: 17 pair_id: [1634, 1648, 1660, 1696, 1728, 1736]\n"
     ]
    },
    {
     "name": "stderr",
     "output_type": "stream",
     "text": [
      "C:\\Users\\wangq2\\AppData\\Local\\Temp\\ipykernel_23348\\3625080482.py:39: RuntimeWarning: overflow encountered in double_scalars\n",
      "  a_follower = x4 * (1 - (vt_follower / x1) ** 4 - (sn / ds) ** 2)\n",
      "C:\\Users\\wangq2\\AppData\\Local\\Temp\\ipykernel_23348\\3625080482.py:36: RuntimeWarning: invalid value encountered in double_scalars\n",
      "  sn = x2 + vt_follower * x3 + vt_follower * dv / (2 * np.sqrt(x4 * x5))\n",
      "C:\\Users\\wangq2\\AppData\\Local\\Temp\\ipykernel_23348\\3625080482.py:36: RuntimeWarning: overflow encountered in double_scalars\n",
      "  sn = x2 + vt_follower * x3 + vt_follower * dv / (2 * np.sqrt(x4 * x5))\n"
     ]
    },
    {
     "name": "stdout",
     "output_type": "stream",
     "text": [
      "best_x is  [27.14562368  5.          1.5615848   1.039644    2.78813955] best_y is [853.62297569]\n",
      "run_no: 20 veh_id: 2 pair_id: [2044, 2040]\n",
      "best_x is  [35.          1.          0.6         0.36228977  3.41      ] best_y is [0.88286973]\n",
      "run_no: 20 veh_id: 4 pair_id: [2035]\n",
      "best_x is  [21.34728297  5.          0.6         0.28        3.41      ] best_y is [1.46469647]\n",
      "run_no: 18 veh_id: 4 pair_id: [1656, 1662, 1671, 1719]\n",
      "best_x is  [25.20997818  5.          0.83946261  2.83664216  3.41      ] best_y is [527.81212742]\n",
      "run_no: 20 veh_id: 34 pair_id: [2102]\n",
      "best_x is  [26.53897809  4.32113599  1.65219262  0.2800009   3.33457092] best_y is [2.69772845]\n",
      "run_no: 20 veh_id: 30 pair_id: [2082, 2103, 2030]\n",
      "best_x is  [32.81307693  4.84168107  0.6         3.41        0.47      ] best_y is [835.54921868]\n",
      "run_no: 11 veh_id: 32 pair_id: [1501]\n"
     ]
    },
    {
     "name": "stderr",
     "output_type": "stream",
     "text": [
      "C:\\Users\\wangq2\\AppData\\Local\\Temp\\ipykernel_23348\\3625080482.py:36: RuntimeWarning: overflow encountered in double_scalars\n",
      "  sn = x2 + vt_follower * x3 + vt_follower * dv / (2 * np.sqrt(x4 * x5))\n",
      "C:\\Users\\wangq2\\AppData\\Local\\Temp\\ipykernel_23348\\3625080482.py:39: RuntimeWarning: overflow encountered in double_scalars\n",
      "  a_follower = x4 * (1 - (vt_follower / x1) ** 4 - (sn / ds) ** 2)\n",
      "C:\\Users\\wangq2\\AppData\\Local\\Temp\\ipykernel_23348\\3625080482.py:36: RuntimeWarning: invalid value encountered in double_scalars\n",
      "  sn = x2 + vt_follower * x3 + vt_follower * dv / (2 * np.sqrt(x4 * x5))\n"
     ]
    },
    {
     "name": "stdout",
     "output_type": "stream",
     "text": [
      "best_x is  [35.          1.          1.2735017   3.41        0.83148441] best_y is [840.97335905]\n",
      "run_no: 11 veh_id: 36 pair_id: [1502]\n",
      "best_x is  [35.    1.    0.6   3.41  3.41] best_y is [7.7171197]\n",
      "run_no: 11 veh_id: 105 pair_id: [1612, 1490]\n"
     ]
    },
    {
     "name": "stderr",
     "output_type": "stream",
     "text": [
      "C:\\Users\\wangq2\\AppData\\Local\\Temp\\ipykernel_23348\\3625080482.py:36: RuntimeWarning: overflow encountered in double_scalars\n",
      "  sn = x2 + vt_follower * x3 + vt_follower * dv / (2 * np.sqrt(x4 * x5))\n",
      "C:\\Users\\wangq2\\AppData\\Local\\Temp\\ipykernel_23348\\3625080482.py:39: RuntimeWarning: overflow encountered in double_scalars\n",
      "  a_follower = x4 * (1 - (vt_follower / x1) ** 4 - (sn / ds) ** 2)\n",
      "C:\\Users\\wangq2\\AppData\\Local\\Temp\\ipykernel_23348\\3625080482.py:36: RuntimeWarning: invalid value encountered in double_scalars\n",
      "  sn = x2 + vt_follower * x3 + vt_follower * dv / (2 * np.sqrt(x4 * x5))\n"
     ]
    },
    {
     "name": "stdout",
     "output_type": "stream",
     "text": [
      "best_x is  [33.97662974  1.          0.79607735  3.41        3.41      ] best_y is [560.0842781]\n",
      "run_no: 11 veh_id: 30 pair_id: [1590, 1479, 1493, 1504]\n",
      "best_x is  [32.2403763   5.          0.7265878   2.69452977  0.47      ] best_y is [1538.82973788]\n",
      "run_no: 3 veh_id: 53 pair_id: [198, 208, 261, 339]\n"
     ]
    },
    {
     "name": "stderr",
     "output_type": "stream",
     "text": [
      "C:\\Users\\wangq2\\AppData\\Local\\Temp\\ipykernel_23348\\3625080482.py:36: RuntimeWarning: overflow encountered in double_scalars\n",
      "  sn = x2 + vt_follower * x3 + vt_follower * dv / (2 * np.sqrt(x4 * x5))\n",
      "C:\\Users\\wangq2\\AppData\\Local\\Temp\\ipykernel_23348\\3625080482.py:39: RuntimeWarning: overflow encountered in double_scalars\n",
      "  a_follower = x4 * (1 - (vt_follower / x1) ** 4 - (sn / ds) ** 2)\n",
      "C:\\Users\\wangq2\\AppData\\Local\\Temp\\ipykernel_23348\\3625080482.py:36: RuntimeWarning: invalid value encountered in double_scalars\n",
      "  sn = x2 + vt_follower * x3 + vt_follower * dv / (2 * np.sqrt(x4 * x5))\n"
     ]
    },
    {
     "name": "stdout",
     "output_type": "stream",
     "text": [
      "best_x is  [35.          1.14182567  1.39082158  3.40846965  0.78312613] best_y is [906.53831884]\n",
      "run_no: 3 veh_id: 31 pair_id: [187, 207]\n",
      "best_x is  [35.          1.          1.44824841  0.73550768  0.51425494] best_y is [305.00281449]\n",
      "run_no: 3 veh_id: 35 pair_id: [199, 206, 266]\n",
      "best_x is  [25.71747668  1.          1.35058757  1.05973518  3.41      ] best_y is [388.64077825]\n",
      "run_no: 3 veh_id: 68 pair_id: [195, 232, 286, 357]\n"
     ]
    },
    {
     "name": "stderr",
     "output_type": "stream",
     "text": [
      "C:\\Users\\wangq2\\AppData\\Local\\Temp\\ipykernel_23348\\3625080482.py:36: RuntimeWarning: overflow encountered in double_scalars\n",
      "  sn = x2 + vt_follower * x3 + vt_follower * dv / (2 * np.sqrt(x4 * x5))\n",
      "C:\\Users\\wangq2\\AppData\\Local\\Temp\\ipykernel_23348\\3625080482.py:39: RuntimeWarning: overflow encountered in double_scalars\n",
      "  a_follower = x4 * (1 - (vt_follower / x1) ** 4 - (sn / ds) ** 2)\n",
      "C:\\Users\\wangq2\\AppData\\Local\\Temp\\ipykernel_23348\\3625080482.py:36: RuntimeWarning: invalid value encountered in double_scalars\n",
      "  sn = x2 + vt_follower * x3 + vt_follower * dv / (2 * np.sqrt(x4 * x5))\n"
     ]
    },
    {
     "name": "stdout",
     "output_type": "stream",
     "text": [
      "best_x is  [32.26584155  1.          0.6         3.41        0.47      ] best_y is [600.96210438]\n",
      "run_no: 3 veh_id: 71 pair_id: [218, 288, 297, 307, 356]\n"
     ]
    },
    {
     "name": "stderr",
     "output_type": "stream",
     "text": [
      "C:\\Users\\wangq2\\AppData\\Local\\Temp\\ipykernel_23348\\3625080482.py:39: RuntimeWarning: overflow encountered in double_scalars\n",
      "  a_follower = x4 * (1 - (vt_follower / x1) ** 4 - (sn / ds) ** 2)\n",
      "C:\\Users\\wangq2\\AppData\\Local\\Temp\\ipykernel_23348\\3625080482.py:36: RuntimeWarning: invalid value encountered in double_scalars\n",
      "  sn = x2 + vt_follower * x3 + vt_follower * dv / (2 * np.sqrt(x4 * x5))\n",
      "C:\\Users\\wangq2\\AppData\\Local\\Temp\\ipykernel_23348\\3625080482.py:36: RuntimeWarning: overflow encountered in double_scalars\n",
      "  sn = x2 + vt_follower * x3 + vt_follower * dv / (2 * np.sqrt(x4 * x5))\n"
     ]
    },
    {
     "name": "stdout",
     "output_type": "stream",
     "text": [
      "best_x is  [33.18188251  1.          0.6         3.41        2.67737388] best_y is [1031.55593767]\n",
      "run_no: 3 veh_id: 83 pair_id: [317, 325, 353]\n"
     ]
    },
    {
     "name": "stderr",
     "output_type": "stream",
     "text": [
      "C:\\Users\\wangq2\\AppData\\Local\\Temp\\ipykernel_23348\\3625080482.py:36: RuntimeWarning: overflow encountered in double_scalars\n",
      "  sn = x2 + vt_follower * x3 + vt_follower * dv / (2 * np.sqrt(x4 * x5))\n",
      "C:\\Users\\wangq2\\AppData\\Local\\Temp\\ipykernel_23348\\3625080482.py:39: RuntimeWarning: overflow encountered in double_scalars\n",
      "  a_follower = x4 * (1 - (vt_follower / x1) ** 4 - (sn / ds) ** 2)\n",
      "C:\\Users\\wangq2\\AppData\\Local\\Temp\\ipykernel_23348\\3625080482.py:36: RuntimeWarning: invalid value encountered in double_scalars\n",
      "  sn = x2 + vt_follower * x3 + vt_follower * dv / (2 * np.sqrt(x4 * x5))\n"
     ]
    },
    {
     "name": "stdout",
     "output_type": "stream",
     "text": [
      "best_x is  [35.          1.          0.6         2.86330554  1.71232517] best_y is [261.78507373]\n",
      "run_no: 20 veh_id: 49 pair_id: [2046]\n",
      "best_x is  [35.          4.09995717  0.6         3.41        0.47      ] best_y is [27.30463951]\n",
      "run_no: 9 veh_id: 64 pair_id: [1412, 1439]\n",
      "best_x is  [35.         1.         0.6        0.28       2.4530902] best_y is [942.42834883]\n",
      "run_no: 21 veh_id: 17 pair_id: [2148, 2184]\n",
      "best_x is  [33.99075593  5.          0.78654537  3.41        1.70272347] best_y is [653.34172135]\n",
      "run_no: 21 veh_id: 39 pair_id: [2165]\n",
      "best_x is  [35.          5.          1.44088049  0.49435147  3.40991912] best_y is [65.25188743]\n",
      "run_no: 21 veh_id: 48 pair_id: [2155]\n"
     ]
    },
    {
     "name": "stderr",
     "output_type": "stream",
     "text": [
      "C:\\Users\\wangq2\\AppData\\Local\\Temp\\ipykernel_23348\\3625080482.py:36: RuntimeWarning: overflow encountered in double_scalars\n",
      "  sn = x2 + vt_follower * x3 + vt_follower * dv / (2 * np.sqrt(x4 * x5))\n",
      "C:\\Users\\wangq2\\AppData\\Local\\Temp\\ipykernel_23348\\3625080482.py:39: RuntimeWarning: overflow encountered in double_scalars\n",
      "  a_follower = x4 * (1 - (vt_follower / x1) ** 4 - (sn / ds) ** 2)\n",
      "C:\\Users\\wangq2\\AppData\\Local\\Temp\\ipykernel_23348\\3625080482.py:36: RuntimeWarning: invalid value encountered in double_scalars\n",
      "  sn = x2 + vt_follower * x3 + vt_follower * dv / (2 * np.sqrt(x4 * x5))\n"
     ]
    },
    {
     "name": "stdout",
     "output_type": "stream",
     "text": [
      "best_x is  [29.85486869  5.          1.02408749  2.19708976  0.47      ] best_y is [609.19453371]\n",
      "run_no: 21 veh_id: 88 pair_id: [2142, 2235, 2257, 2274]\n"
     ]
    },
    {
     "name": "stderr",
     "output_type": "stream",
     "text": [
      "C:\\Users\\wangq2\\AppData\\Local\\Temp\\ipykernel_23348\\3625080482.py:36: RuntimeWarning: overflow encountered in double_scalars\n",
      "  sn = x2 + vt_follower * x3 + vt_follower * dv / (2 * np.sqrt(x4 * x5))\n",
      "C:\\Users\\wangq2\\AppData\\Local\\Temp\\ipykernel_23348\\3625080482.py:39: RuntimeWarning: overflow encountered in double_scalars\n",
      "  a_follower = x4 * (1 - (vt_follower / x1) ** 4 - (sn / ds) ** 2)\n",
      "C:\\Users\\wangq2\\AppData\\Local\\Temp\\ipykernel_23348\\3625080482.py:36: RuntimeWarning: invalid value encountered in double_scalars\n",
      "  sn = x2 + vt_follower * x3 + vt_follower * dv / (2 * np.sqrt(x4 * x5))\n"
     ]
    },
    {
     "name": "stdout",
     "output_type": "stream",
     "text": [
      "best_x is  [35.          2.42740327  0.6         3.41        3.41      ] best_y is [545.58623018]\n",
      "run_no: 8 veh_id: 6 pair_id: [658]\n",
      "best_x is  [33.7151437   1.42475814  0.6         0.28120964  2.57936166] best_y is [0.52966447]\n",
      "run_no: 8 veh_id: 60 pair_id: [789, 805, 1117, 1144, 1160]\n",
      "best_x is  [35.          1.          1.64186519  0.68830125  3.41      ] best_y is [1165.10121086]\n",
      "run_no: 8 veh_id: 61 pair_id: [652, 790]\n",
      "best_x is  [24.46238924  5.          2.24599795  0.28        1.85441769] best_y is [55.57389525]\n",
      "run_no: 7 veh_id: 41 pair_id: [436, 450, 500]\n",
      "best_x is  [28.95052761  4.99995367  0.60057342  2.18732447  3.41      ] best_y is [944.34277447]\n",
      "run_no: 18 veh_id: 32 pair_id: [1632, 1691, 1715]\n",
      "best_x is  [28.69111924  1.          0.6         0.77389201  3.41      ] best_y is [305.52248949]\n"
     ]
    }
   ],
   "source": [
    "parameter_dict={}\n",
    "#loop\n",
    "for i in range(len(run_id_list)):\n",
    "    run_no=run_id_list[i]\n",
    "    veh_id=veh_id_list[i]\n",
    "    pair_id=pair_id_list[i]\n",
    "    key=run_no+'-'+veh_id+'-'+str(pair_id)\n",
    "    print(\"run_no:\",run_no,\"veh_id:\",veh_id,\"pair_id:\",pair_id)\n",
    "    x_leader_current_list=[]\n",
    "    v_leader_current_list=[]\n",
    "    a_leader_current_list=[]\n",
    "    x_follower_current_list=[]\n",
    "    v_follower_current_list=[]\n",
    "    a_follower_current_list=[]\n",
    "\n",
    "    x_leader_next_list=[]\n",
    "    v_leader_next_list=[]\n",
    "    a_leader_next_list=[]\n",
    "    x_follower_next_list=[]\n",
    "    v_follower_next_list=[]\n",
    "    a_follower_next_list=[]\n",
    "    spacing_list=[]\n",
    "    delta_v_list=[]\n",
    "    timestamp_list=[]\n",
    "    for current_pair_id in pair_id:\n",
    "        file_name='run-'+run_no+'-veh-'+veh_id+'-pair-'+str(current_pair_id)+'.csv'\n",
    "        if CAV_judge:\n",
    "            data_path=\"../Data/CAV/\"\n",
    "        else:\n",
    "            data_path=\"../Data/HV/\"\n",
    "        #read trajectory data\n",
    "        veh_data=pd.read_csv(data_path+file_name)\n",
    "        x_leader_current=veh_data['xLeaderReal'].tolist()\n",
    "        v_leader_current=veh_data['vLeaderReal'].tolist()\n",
    "        a_leader_current=veh_data['aLeaderReal'].tolist()\n",
    "\n",
    "        x_follower_current=veh_data['xFollowerReal'].tolist()\n",
    "        v_follower_current=veh_data['vFollowerReal'].tolist()\n",
    "        a_follower_current=veh_data['aFollowerReal'].tolist()\n",
    "\n",
    "        x_leader_next=veh_data['xLeaderReal_next'].tolist()\n",
    "        v_leader_next=veh_data['vLeaderReal_next'].tolist()\n",
    "        a_leader_next=veh_data['aLeaderReal_next'].tolist()\n",
    "\n",
    "        x_follower_next=veh_data['xFollowerReal_next'].tolist()\n",
    "        v_follower_next=veh_data['vFollowerReal_next'].tolist()\n",
    "        a_follower_next=veh_data['aFollowerReal_next'].tolist()\n",
    "\n",
    "        spacing=veh_data['spacing'].tolist()\n",
    "        delta_v=veh_data['speed_difference'].tolist()\n",
    "        timestamp=veh_data['timestamp'].tolist()\n",
    "       \n",
    "        x_leader_current_list.append(x_leader_current)\n",
    "        v_leader_current_list.append(v_leader_current)\n",
    "        a_leader_current_list.append(a_leader_current)\n",
    "        x_follower_current_list.append(x_follower_current)\n",
    "        v_follower_current_list.append(v_follower_current)\n",
    "        a_follower_current_list.append(a_follower_current)\n",
    "\n",
    "        x_leader_next_list.append(x_leader_next)\n",
    "        v_leader_next_list.append(v_leader_next)\n",
    "        a_leader_next_list.append(a_leader_next)\n",
    "        x_follower_next_list.append(x_follower_next)\n",
    "        v_follower_next_list.append(v_follower_next)\n",
    "        a_follower_next_list.append(a_follower_next)\n",
    "        spacing_list.append(spacing)\n",
    "        delta_v_list.append(delta_v)\n",
    "        timestamp_list.append(timestamp)\n",
    "    #Apply PSO     \n",
    "    pso = PSO(func=objective_function, n_dim=5, pop=40, max_iter=150, lb=[10,1,0.6,0.28,0.47], ub=[35,5,6,3.41,3.41], w=0.8, c1=0.5, c2=0.5)\n",
    "    pso.run()\n",
    "    parameter_dict[key]=pso.gbest_x\n",
    "    print('best_x is ', pso.gbest_x, 'best_y is', pso.gbest_y)"
   ]
  },
  {
   "cell_type": "code",
   "execution_count": null,
   "id": "7ace2fd8",
   "metadata": {},
   "outputs": [],
   "source": [
    "#save parameter\n",
    "parameter_df=pd.DataFrame(parameter_dict)\n",
    "parameter_df_T=parameter_df.T\n",
    "parameter_df_T=parameter_df_T.reset_index()\n",
    "parameter_df_T[['run_no','veh_id','pair_list']]=parameter_df_T.iloc[:,0].str.split('-',expand=True)\n",
    "parameter_df_T['pair_list']=parameter_df_T['pair_list'].apply(lambda x: [int(num) for num in x.strip('[]').split(',')])\n",
    "parameter_df_T=parameter_df_T.explode('pair_list')\n",
    "parameter_df_T.rename(columns={'pair_list':'pair_id'},inplace=True)\n",
    "parameter_df_T.rename(columns={0:'Free-flow speed',1:'Minimum space',2:'Safe time headway',3:'Maximum acceleration',4:'Confortable deceleration'},inplace=True)\n",
    "parameter_df_T=parameter_df_T[['run_no','veh_id','pair_id','Free-flow speed','Minimum space','Safe time headway','Maximum acceleration','follower speed']]\n",
    "if CAV_judge:\n",
    "    parameter_df_T.to_csv(\"../parameters/parameters_following_CAV.csv\",index=False)\n",
    "else:\n",
    "    parameter_df_T.to_csv(\"../parameters/parameters_following_HV.csv\",index=False)"
   ]
  }
 ],
 "metadata": {
  "kernelspec": {
   "display_name": "Python 3 (ipykernel)",
   "language": "python",
   "name": "python3"
  },
  "language_info": {
   "codemirror_mode": {
    "name": "ipython",
    "version": 3
   },
   "file_extension": ".py",
   "mimetype": "text/x-python",
   "name": "python",
   "nbconvert_exporter": "python",
   "pygments_lexer": "ipython3",
   "version": "3.9.13"
  }
 },
 "nbformat": 4,
 "nbformat_minor": 5
}
